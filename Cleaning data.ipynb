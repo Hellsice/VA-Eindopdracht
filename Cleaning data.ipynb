{
 "cells": [
  {
   "cell_type": "code",
   "execution_count": 1,
   "id": "2a17b931",
   "metadata": {},
   "outputs": [],
   "source": [
    "import pandas as pd\n",
    "import geopandas as gpd\n",
    "import opendatasets as od\n",
    "import requests\n",
    "import numpy as np"
   ]
  },
  {
   "cell_type": "code",
   "execution_count": 4,
   "id": "b73533f0",
   "metadata": {},
   "outputs": [
    {
     "name": "stdout",
     "output_type": "stream",
     "text": [
      "Using downloaded and verified file: .\\countries.geojson\n"
     ]
    }
   ],
   "source": [
    "od.download('https://datahub.io/core/geo-countries/r/countries.geojson')\n",
    "countries_geojson = gpd.read_file('countries.geojson')\n",
    "response = requests.get('https://api.worldbank.org/v2/en/indicator/NY.GDP.MKTP.CD?downloadformat=excel')\n",
    "output = open('GDP.xls', 'wb')\n",
    "output.write(response.content)\n",
    "output.close()\n",
    "GDP = pd.read_excel('GDP.xls', skiprows=[0,1,2], engine='xlrd')\n",
    "\n",
    "response = requests.get('https://api.worldbank.org/v2/en/indicator/SP.POP.TOTL?downloadformat=excel')\n",
    "output = open('Population.xls', 'wb')\n",
    "output.write(response.content)\n",
    "output.close()\n",
    "Population = pd.read_excel('Population.xls', skiprows=[0,1,2], engine='xlrd')"
   ]
  },
  {
   "cell_type": "code",
   "execution_count": null,
   "id": "c506a1ac",
   "metadata": {},
   "outputs": [],
   "source": []
  },
  {
   "cell_type": "code",
   "execution_count": 2,
   "id": "e9abf0a7",
   "metadata": {},
   "outputs": [
    {
     "ename": "NameError",
     "evalue": "name 'GDP' is not defined",
     "output_type": "error",
     "traceback": [
      "\u001b[1;31m---------------------------------------------------------------------------\u001b[0m",
      "\u001b[1;31mNameError\u001b[0m                                 Traceback (most recent call last)",
      "Cell \u001b[1;32mIn [2], line 24\u001b[0m\n\u001b[0;32m     20\u001b[0m rampen_df[\u001b[38;5;124m'\u001b[39m\u001b[38;5;124mJaar 3\u001b[39m\u001b[38;5;124m'\u001b[39m]\u001b[38;5;241m=\u001b[39m\u001b[38;5;241m0\u001b[39m\n\u001b[0;32m     23\u001b[0m \u001b[38;5;28;01mfor\u001b[39;00m index, row \u001b[38;5;129;01min\u001b[39;00m rampen_df\u001b[38;5;241m.\u001b[39miterrows():\n\u001b[1;32m---> 24\u001b[0m     \u001b[38;5;28;01mif\u001b[39;00m \u001b[38;5;28mlen\u001b[39m(\u001b[43mGDP\u001b[49m[GDP[\u001b[38;5;124m'\u001b[39m\u001b[38;5;124mCountry Code\u001b[39m\u001b[38;5;124m'\u001b[39m]\u001b[38;5;241m==\u001b[39mrampen_df[\u001b[38;5;124m'\u001b[39m\u001b[38;5;124mISO\u001b[39m\u001b[38;5;124m'\u001b[39m][index]][\u001b[38;5;28mstr\u001b[39m(rampen_df[\u001b[38;5;124m'\u001b[39m\u001b[38;5;124mYear\u001b[39m\u001b[38;5;124m'\u001b[39m][index])])\u001b[38;5;241m>\u001b[39m\u001b[38;5;241m0\u001b[39m:\n\u001b[0;32m     25\u001b[0m         \u001b[38;5;28;01mif\u001b[39;00m rampen_df[\u001b[38;5;124m'\u001b[39m\u001b[38;5;124mYear\u001b[39m\u001b[38;5;124m'\u001b[39m][index] \u001b[38;5;241m<\u001b[39m\u001b[38;5;241m=\u001b[39m\u001b[38;5;241m2021\u001b[39m:\n\u001b[0;32m     26\u001b[0m             rampen_df\u001b[38;5;241m.\u001b[39miloc[index, rampen_df\u001b[38;5;241m.\u001b[39mcolumns\u001b[38;5;241m.\u001b[39mget_loc(\u001b[38;5;124m'\u001b[39m\u001b[38;5;124mJaar 0\u001b[39m\u001b[38;5;124m'\u001b[39m)] \u001b[38;5;241m=\u001b[39m \\\n\u001b[0;32m     27\u001b[0m             (GDP[GDP[\u001b[38;5;124m'\u001b[39m\u001b[38;5;124mCountry Code\u001b[39m\u001b[38;5;124m'\u001b[39m]\u001b[38;5;241m==\u001b[39mrampen_df[\u001b[38;5;124m'\u001b[39m\u001b[38;5;124mISO\u001b[39m\u001b[38;5;124m'\u001b[39m][index]][\u001b[38;5;28mstr\u001b[39m(rampen_df[\u001b[38;5;124m'\u001b[39m\u001b[38;5;124mYear\u001b[39m\u001b[38;5;124m'\u001b[39m][index])]\u001b[38;5;241m.\u001b[39mvalues[\u001b[38;5;241m0\u001b[39m]\\\n\u001b[0;32m     28\u001b[0m              \u001b[38;5;241m-\u001b[39m GDP[GDP[\u001b[38;5;124m'\u001b[39m\u001b[38;5;124mCountry Code\u001b[39m\u001b[38;5;124m'\u001b[39m]\u001b[38;5;241m==\u001b[39mrampen_df[\u001b[38;5;124m'\u001b[39m\u001b[38;5;124mISO\u001b[39m\u001b[38;5;124m'\u001b[39m][index]][\u001b[38;5;28mstr\u001b[39m(rampen_df[\u001b[38;5;124m'\u001b[39m\u001b[38;5;124mYear\u001b[39m\u001b[38;5;124m'\u001b[39m][index]\u001b[38;5;241m-\u001b[39m\u001b[38;5;241m1\u001b[39m)]\u001b[38;5;241m.\u001b[39mvalues[\u001b[38;5;241m0\u001b[39m])\u001b[38;5;241m/\u001b[39m\\\n\u001b[1;32m   (...)\u001b[0m\n\u001b[0;32m     31\u001b[0m              \u001b[38;5;241m-\u001b[39m GDP[GDP[\u001b[38;5;124m'\u001b[39m\u001b[38;5;124mCountry Code\u001b[39m\u001b[38;5;124m'\u001b[39m]\u001b[38;5;241m==\u001b[39m\u001b[38;5;124m'\u001b[39m\u001b[38;5;124mWLD\u001b[39m\u001b[38;5;124m'\u001b[39m][\u001b[38;5;28mstr\u001b[39m(rampen_df[\u001b[38;5;124m'\u001b[39m\u001b[38;5;124mYear\u001b[39m\u001b[38;5;124m'\u001b[39m][index]\u001b[38;5;241m-\u001b[39m\u001b[38;5;241m1\u001b[39m)]\u001b[38;5;241m.\u001b[39mvalues[\u001b[38;5;241m0\u001b[39m])\u001b[38;5;241m/\u001b[39m\\\n\u001b[0;32m     32\u001b[0m             GDP[GDP[\u001b[38;5;124m'\u001b[39m\u001b[38;5;124mCountry Code\u001b[39m\u001b[38;5;124m'\u001b[39m]\u001b[38;5;241m==\u001b[39m\u001b[38;5;124m'\u001b[39m\u001b[38;5;124mWLD\u001b[39m\u001b[38;5;124m'\u001b[39m][\u001b[38;5;28mstr\u001b[39m(rampen_df[\u001b[38;5;124m'\u001b[39m\u001b[38;5;124mYear\u001b[39m\u001b[38;5;124m'\u001b[39m][index]\u001b[38;5;241m-\u001b[39m\u001b[38;5;241m1\u001b[39m)]\u001b[38;5;241m.\u001b[39mvalues[\u001b[38;5;241m0\u001b[39m]\n",
      "\u001b[1;31mNameError\u001b[0m: name 'GDP' is not defined"
     ]
    }
   ],
   "source": [
    "rampen_df = pd.read_csv('emdat_public_2022_11_02_query_uid-DNpCZl.csv', sep=';')\n",
    "rampen_df = rampen_df[rampen_df.Year >= 1961].reset_index(drop=True).fillna(0)\n",
    "rampen_df = rampen_df[rampen_df.Year <= 2021].reset_index(drop=True).fillna(0)\n",
    "rampen_df['Total Affected new'] = rampen_df['No Affected']+rampen_df['No Injured']+rampen_df['No Homeless']\n",
    "\n",
    "\n",
    "rampen_df_controle = rampen_df.groupby(['ISO', 'Country', 'Year', 'Disaster Group', 'Disaster Subgroup', 'Disaster Type',\n",
    "       'Disaster Subtype'])['Total Affected new'].sum().reset_index()\n",
    "rampen_df_controle2 = rampen_df.groupby(['ISO', 'Country', 'Year', 'Disaster Group', 'Disaster Subgroup', 'Disaster Type',\n",
    "       'Disaster Subtype'])['Total Deaths'].sum().reset_index()\n",
    "\n",
    "rampen_df = rampen_df_controle2\n",
    "rampen_df['Total Affected new'] = rampen_df_controle['Total Affected new']\n",
    "\n",
    "rampen_df['Disaster Subtype'] = rampen_df.apply(lambda row: 'NaN - ' + row['Disaster Type'] if (row['Disaster Subtype']==0) else row['Disaster Subtype'], axis=1)\n",
    "\n",
    "rampen_df['Jaar 0']=0\n",
    "rampen_df['Jaar 1']=0\n",
    "rampen_df['Jaar 2']=0\n",
    "rampen_df['Jaar 3']=0\n",
    "\n",
    "\n",
    "for index, row in rampen_df.iterrows():\n",
    "    if len(GDP[GDP['Country Code']==rampen_df['ISO'][index]][str(rampen_df['Year'][index])])>0:\n",
    "        if rampen_df['Year'][index] <=2021:\n",
    "            rampen_df.iloc[index, rampen_df.columns.get_loc('Jaar 0')] = \\\n",
    "            (GDP[GDP['Country Code']==rampen_df['ISO'][index]][str(rampen_df['Year'][index])].values[0]\\\n",
    "             - GDP[GDP['Country Code']==rampen_df['ISO'][index]][str(rampen_df['Year'][index]-1)].values[0])/\\\n",
    "            GDP[GDP['Country Code']==rampen_df['ISO'][index]][str(rampen_df['Year'][index]-1)].values[0]\\\n",
    "             - (GDP[GDP['Country Code']=='WLD'][str(rampen_df['Year'][index])].values[0]\\\n",
    "             - GDP[GDP['Country Code']=='WLD'][str(rampen_df['Year'][index]-1)].values[0])/\\\n",
    "            GDP[GDP['Country Code']=='WLD'][str(rampen_df['Year'][index]-1)].values[0]\n",
    "        \n",
    "        \n",
    "        if rampen_df['Year'][index]+1 <= 2021:\n",
    "            rampen_df.iloc[index, rampen_df.columns.get_loc('Jaar 1')] = \\\n",
    "            (GDP[GDP['Country Code']==rampen_df['ISO'][index]][str(rampen_df['Year'][index]+1)].values[0]\\\n",
    "             - GDP[GDP['Country Code']==rampen_df['ISO'][index]][str(rampen_df['Year'][index])].values[0])/\\\n",
    "            GDP[GDP['Country Code']==rampen_df['ISO'][index]][str(rampen_df['Year'][index])].values[0]\\\n",
    "            - (GDP[GDP['Country Code']=='WLD'][str(rampen_df['Year'][index]+1)].values[0]\\\n",
    "             - GDP[GDP['Country Code']=='WLD'][str(rampen_df['Year'][index])].values[0])/\\\n",
    "            GDP[GDP['Country Code']=='WLD'][str(rampen_df['Year'][index])].values[0]\n",
    "        \n",
    "        if rampen_df['Year'][index]+2 <=2021:   \n",
    "            rampen_df.iloc[index, rampen_df.columns.get_loc('Jaar 2')] = \\\n",
    "            (GDP[GDP['Country Code']==rampen_df['ISO'][index]][str(rampen_df['Year'][index]+2)].values[0]\\\n",
    "             - GDP[GDP['Country Code']==rampen_df['ISO'][index]][str(rampen_df['Year'][index]+1)].values[0])/\\\n",
    "            GDP[GDP['Country Code']==rampen_df['ISO'][index]][str(rampen_df['Year'][index]+1)].values[0]\\\n",
    "             - (GDP[GDP['Country Code']=='WLD'][str(rampen_df['Year'][index]+2)].values[0]\\\n",
    "             - GDP[GDP['Country Code']=='WLD'][str(rampen_df['Year'][index]+1)].values[0])/\\\n",
    "            GDP[GDP['Country Code']=='WLD'][str(rampen_df['Year'][index]+1)].values[0]\n",
    "        \n",
    "        if rampen_df['Year'][index]+3 <=2021:    \n",
    "            rampen_df.iloc[index, rampen_df.columns.get_loc('Jaar 3')] = \\\n",
    "            (GDP[GDP['Country Code']==rampen_df['ISO'][index]][str(rampen_df['Year'][index]+3)].values[0]\\\n",
    "             - GDP[GDP['Country Code']==rampen_df['ISO'][index]][str(rampen_df['Year'][index]+2)].values[0])/\\\n",
    "            GDP[GDP['Country Code']==rampen_df['ISO'][index]][str(rampen_df['Year'][index]+2)].values[0]\\\n",
    "             - (GDP[GDP['Country Code']=='WLD'][str(rampen_df['Year'][index]+3)].values[0]\\\n",
    "             - GDP[GDP['Country Code']=='WLD'][str(rampen_df['Year'][index]+2)].values[0])/\\\n",
    "            GDP[GDP['Country Code']=='WLD'][str(rampen_df['Year'][index]+2)].values[0]\n",
    "\n",
    "rampen_df['Jaar 0']=rampen_df['Jaar 0']*100\n",
    "rampen_df['Jaar 1']=rampen_df['Jaar 1']*100\n",
    "rampen_df['Jaar 2']=rampen_df['Jaar 2']*100\n",
    "rampen_df['Jaar 3']=rampen_df['Jaar 3']*100\n",
    "\n",
    "\n",
    "print(rampen_df)\n",
    "rampen_df.to_csv('rampen_df.csv', index=False)"
   ]
  },
  {
   "cell_type": "code",
   "execution_count": null,
   "id": "64b451a8",
   "metadata": {},
   "outputs": [],
   "source": []
  }
 ],
 "metadata": {
  "kernelspec": {
   "display_name": "Python 3 (ipykernel)",
   "language": "python",
   "name": "python3"
  },
  "language_info": {
   "codemirror_mode": {
    "name": "ipython",
    "version": 3
   },
   "file_extension": ".py",
   "mimetype": "text/x-python",
   "name": "python",
   "nbconvert_exporter": "python",
   "pygments_lexer": "ipython3",
   "version": "3.10.6"
  }
 },
 "nbformat": 4,
 "nbformat_minor": 5
}
